{
 "cells": [
  {
   "cell_type": "markdown",
   "id": "9dfda85b",
   "metadata": {
    "papermill": {
     "duration": 0.002456,
     "end_time": "2023-05-13T01:00:35.148605",
     "exception": false,
     "start_time": "2023-05-13T01:00:35.146149",
     "status": "completed"
    },
    "tags": []
   },
   "source": [
    "# Process of the ETH file "
   ]
  },
  {
   "cell_type": "code",
   "execution_count": 1,
   "id": "55300701",
   "metadata": {
    "execution": {
     "iopub.execute_input": "2023-05-13T01:00:35.155140Z",
     "iopub.status.busy": "2023-05-13T01:00:35.154005Z",
     "iopub.status.idle": "2023-05-13T01:00:35.172481Z",
     "shell.execute_reply": "2023-05-13T01:00:35.171230Z"
    },
    "papermill": {
     "duration": 0.024264,
     "end_time": "2023-05-13T01:00:35.175134",
     "exception": false,
     "start_time": "2023-05-13T01:00:35.150870",
     "status": "completed"
    },
    "tags": []
   },
   "outputs": [
    {
     "name": "stdout",
     "output_type": "stream",
     "text": [
      "/kaggle/input/ethereum-data/ETH-USD.csv\n"
     ]
    }
   ],
   "source": [
    "# This Python 3 environment comes with many helpful analytics libraries installed\n",
    "# It is defined by the kaggle/python Docker image: https://github.com/kaggle/docker-python\n",
    "# For example, here's several helpful packages to load\n",
    "\n",
    "import numpy as np # linear algebra\n",
    "import pandas as pd # data processing, CSV file I/O (e.g. pd.read_csv)\n",
    "import matplotlib.pyplot as plt\n",
    "\n",
    "# Input data files are available in the read-only \"../input/\" directory\n",
    "# For example, running this (by clicking run or pressing Shift+Enter) will list all files under the input directory\n",
    "\n",
    "import os\n",
    "for dirname, _, filenames in os.walk('/kaggle/input'):\n",
    "    for filename in filenames:\n",
    "        print(os.path.join(dirname, filename))\n",
    "\n",
    "# You can write up to 20GB to the current directory (/kaggle/working/) that gets preserved as output when you create a version using \"Save & Run All\" \n",
    "# You can also write temporary files to /kaggle/temp/, but they won't be saved outside of the current session"
   ]
  },
  {
   "cell_type": "code",
   "execution_count": 2,
   "id": "763d83e9",
   "metadata": {
    "execution": {
     "iopub.execute_input": "2023-05-13T01:00:35.181667Z",
     "iopub.status.busy": "2023-05-13T01:00:35.180679Z",
     "iopub.status.idle": "2023-05-13T01:00:35.232542Z",
     "shell.execute_reply": "2023-05-13T01:00:35.231219Z"
    },
    "papermill": {
     "duration": 0.057485,
     "end_time": "2023-05-13T01:00:35.234979",
     "exception": false,
     "start_time": "2023-05-13T01:00:35.177494",
     "status": "completed"
    },
    "tags": []
   },
   "outputs": [
    {
     "data": {
      "text/html": [
       "<div>\n",
       "<style scoped>\n",
       "    .dataframe tbody tr th:only-of-type {\n",
       "        vertical-align: middle;\n",
       "    }\n",
       "\n",
       "    .dataframe tbody tr th {\n",
       "        vertical-align: top;\n",
       "    }\n",
       "\n",
       "    .dataframe thead th {\n",
       "        text-align: right;\n",
       "    }\n",
       "</style>\n",
       "<table border=\"1\" class=\"dataframe\">\n",
       "  <thead>\n",
       "    <tr style=\"text-align: right;\">\n",
       "      <th></th>\n",
       "      <th>Date</th>\n",
       "      <th>Open</th>\n",
       "      <th>High</th>\n",
       "      <th>Low</th>\n",
       "      <th>Close</th>\n",
       "      <th>Adj Close</th>\n",
       "      <th>Volume</th>\n",
       "    </tr>\n",
       "  </thead>\n",
       "  <tbody>\n",
       "    <tr>\n",
       "      <th>0</th>\n",
       "      <td>2017-11-09</td>\n",
       "      <td>308.644989</td>\n",
       "      <td>329.451996</td>\n",
       "      <td>307.056000</td>\n",
       "      <td>320.884003</td>\n",
       "      <td>320.884003</td>\n",
       "      <td>893249984</td>\n",
       "    </tr>\n",
       "    <tr>\n",
       "      <th>1</th>\n",
       "      <td>2017-11-10</td>\n",
       "      <td>320.670990</td>\n",
       "      <td>324.717987</td>\n",
       "      <td>294.541992</td>\n",
       "      <td>299.252991</td>\n",
       "      <td>299.252991</td>\n",
       "      <td>885985984</td>\n",
       "    </tr>\n",
       "    <tr>\n",
       "      <th>2</th>\n",
       "      <td>2017-11-11</td>\n",
       "      <td>298.585999</td>\n",
       "      <td>319.453003</td>\n",
       "      <td>298.191986</td>\n",
       "      <td>314.681000</td>\n",
       "      <td>314.681000</td>\n",
       "      <td>842300992</td>\n",
       "    </tr>\n",
       "    <tr>\n",
       "      <th>3</th>\n",
       "      <td>2017-11-12</td>\n",
       "      <td>314.690002</td>\n",
       "      <td>319.153015</td>\n",
       "      <td>298.513000</td>\n",
       "      <td>307.907990</td>\n",
       "      <td>307.907990</td>\n",
       "      <td>1613479936</td>\n",
       "    </tr>\n",
       "    <tr>\n",
       "      <th>4</th>\n",
       "      <td>2017-11-13</td>\n",
       "      <td>307.024994</td>\n",
       "      <td>328.415009</td>\n",
       "      <td>307.024994</td>\n",
       "      <td>316.716003</td>\n",
       "      <td>316.716003</td>\n",
       "      <td>1041889984</td>\n",
       "    </tr>\n",
       "  </tbody>\n",
       "</table>\n",
       "</div>"
      ],
      "text/plain": [
       "         Date        Open        High         Low       Close   Adj Close  \\\n",
       "0  2017-11-09  308.644989  329.451996  307.056000  320.884003  320.884003   \n",
       "1  2017-11-10  320.670990  324.717987  294.541992  299.252991  299.252991   \n",
       "2  2017-11-11  298.585999  319.453003  298.191986  314.681000  314.681000   \n",
       "3  2017-11-12  314.690002  319.153015  298.513000  307.907990  307.907990   \n",
       "4  2017-11-13  307.024994  328.415009  307.024994  316.716003  316.716003   \n",
       "\n",
       "       Volume  \n",
       "0   893249984  \n",
       "1   885985984  \n",
       "2   842300992  \n",
       "3  1613479936  \n",
       "4  1041889984  "
      ]
     },
     "execution_count": 2,
     "metadata": {},
     "output_type": "execute_result"
    }
   ],
   "source": [
    "#read the csv\n",
    "df = pd.read_csv(\"/kaggle/input/ethereum-data/ETH-USD.csv\")\n",
    "df.head()"
   ]
  },
  {
   "cell_type": "code",
   "execution_count": 3,
   "id": "afc32686",
   "metadata": {
    "execution": {
     "iopub.execute_input": "2023-05-13T01:00:35.241480Z",
     "iopub.status.busy": "2023-05-13T01:00:35.240766Z",
     "iopub.status.idle": "2023-05-13T01:00:35.255137Z",
     "shell.execute_reply": "2023-05-13T01:00:35.253941Z"
    },
    "papermill": {
     "duration": 0.020565,
     "end_time": "2023-05-13T01:00:35.257921",
     "exception": false,
     "start_time": "2023-05-13T01:00:35.237356",
     "status": "completed"
    },
    "tags": []
   },
   "outputs": [
    {
     "data": {
      "text/plain": [
       "0        Thursday\n",
       "1          Friday\n",
       "2        Saturday\n",
       "3          Sunday\n",
       "4          Monday\n",
       "          ...    \n",
       "1593       Monday\n",
       "1594      Tuesday\n",
       "1595    Wednesday\n",
       "1596     Thursday\n",
       "1597       Friday\n",
       "Name: Date, Length: 1598, dtype: object"
      ]
     },
     "execution_count": 3,
     "metadata": {},
     "output_type": "execute_result"
    }
   ],
   "source": [
    "#convert date to datetime\n",
    "df[\"Date\"] = pd.to_datetime(df[\"Date\"], format = \"%Y-%m-%d\")\n",
    "#See day\n",
    "df[\"Date\"].dt.day_name()"
   ]
  }
 ],
 "metadata": {
  "kernelspec": {
   "display_name": "Python 3",
   "language": "python",
   "name": "python3"
  },
  "language_info": {
   "codemirror_mode": {
    "name": "ipython",
    "version": 3
   },
   "file_extension": ".py",
   "mimetype": "text/x-python",
   "name": "python",
   "nbconvert_exporter": "python",
   "pygments_lexer": "ipython3",
   "version": "3.10.10"
  },
  "papermill": {
   "default_parameters": {},
   "duration": 10.776296,
   "end_time": "2023-05-13T01:00:36.083001",
   "environment_variables": {},
   "exception": null,
   "input_path": "__notebook__.ipynb",
   "output_path": "__notebook__.ipynb",
   "parameters": {},
   "start_time": "2023-05-13T01:00:25.306705",
   "version": "2.4.0"
  }
 },
 "nbformat": 4,
 "nbformat_minor": 5
}
